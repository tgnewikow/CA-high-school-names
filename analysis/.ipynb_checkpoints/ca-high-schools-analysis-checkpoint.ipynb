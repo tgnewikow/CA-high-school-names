{
 "cells": [
  {
   "cell_type": "markdown",
   "id": "232c7d7e-4973-44e9-8e7f-00d26e45a33d",
   "metadata": {},
   "source": [
    "# Analysis of public high school names in California"
   ]
  },
  {
   "cell_type": "markdown",
   "id": "99aab764-36cb-442d-9084-7b55ec60a8c6",
   "metadata": {},
   "source": [
    "I obtained a list of names of public high schools in California, excluding charter and magnet schools, from the [Califorina Department of Education website](https://www.cde.ca.gov/schooldirectory/). "
   ]
  },
  {
   "cell_type": "code",
   "execution_count": 1,
   "id": "9e9df81c-9d1e-44a3-948b-ffe3acf2668e",
   "metadata": {},
   "outputs": [],
   "source": [
    "import pandas as pd\n",
    "import numpy as np"
   ]
  },
  {
   "cell_type": "code",
   "execution_count": 2,
   "id": "33a171d2-b910-4461-812d-0ac582665b70",
   "metadata": {},
   "outputs": [],
   "source": [
    "schools = pd.read_csv(\"CDESchoolDirectory-classified.csv\")"
   ]
  },
  {
   "cell_type": "code",
   "execution_count": 3,
   "id": "2848ea7d-84f6-4193-9d3b-68d8aea152a3",
   "metadata": {},
   "outputs": [
    {
     "data": {
      "text/html": [
       "<div>\n",
       "<style scoped>\n",
       "    .dataframe tbody tr th:only-of-type {\n",
       "        vertical-align: middle;\n",
       "    }\n",
       "\n",
       "    .dataframe tbody tr th {\n",
       "        vertical-align: top;\n",
       "    }\n",
       "\n",
       "    .dataframe thead th {\n",
       "        text-align: right;\n",
       "    }\n",
       "</style>\n",
       "<table border=\"1\" class=\"dataframe\">\n",
       "  <thead>\n",
       "    <tr style=\"text-align: right;\">\n",
       "      <th></th>\n",
       "      <th>Record Type</th>\n",
       "      <th>Federal School ID</th>\n",
       "      <th>County</th>\n",
       "      <th>District</th>\n",
       "      <th>School</th>\n",
       "      <th>Latitude</th>\n",
       "      <th>Longitude</th>\n",
       "      <th>Street Address</th>\n",
       "      <th>Street City</th>\n",
       "      <th>Street State</th>\n",
       "      <th>Street Zip</th>\n",
       "      <th>Name Classification</th>\n",
       "      <th>Spanish?</th>\n",
       "      <th>Person Occupation</th>\n",
       "      <th>notes</th>\n",
       "    </tr>\n",
       "  </thead>\n",
       "  <tbody>\n",
       "    <tr>\n",
       "      <th>0</th>\n",
       "      <td>School</td>\n",
       "      <td>00041</td>\n",
       "      <td>Alameda</td>\n",
       "      <td>Alameda Unified</td>\n",
       "      <td>Alameda High</td>\n",
       "      <td>37.764958</td>\n",
       "      <td>-122.245935</td>\n",
       "      <td>2200 Central Ave.</td>\n",
       "      <td>Alameda</td>\n",
       "      <td>CA</td>\n",
       "      <td>94501-4406</td>\n",
       "      <td>place</td>\n",
       "      <td>n</td>\n",
       "      <td>NaN</td>\n",
       "      <td>NaN</td>\n",
       "    </tr>\n",
       "    <tr>\n",
       "      <th>1</th>\n",
       "      <td>School</td>\n",
       "      <td>00059</td>\n",
       "      <td>Alameda</td>\n",
       "      <td>Albany City Unified</td>\n",
       "      <td>Albany High</td>\n",
       "      <td>37.896661</td>\n",
       "      <td>-122.292572</td>\n",
       "      <td>603 Key Route Blvd.</td>\n",
       "      <td>Albany</td>\n",
       "      <td>CA</td>\n",
       "      <td>94706-1422</td>\n",
       "      <td>place</td>\n",
       "      <td>n</td>\n",
       "      <td>NaN</td>\n",
       "      <td>NaN</td>\n",
       "    </tr>\n",
       "    <tr>\n",
       "      <th>2</th>\n",
       "      <td>School</td>\n",
       "      <td>00432</td>\n",
       "      <td>Alameda</td>\n",
       "      <td>Berkeley Unified</td>\n",
       "      <td>Berkeley High</td>\n",
       "      <td>37.868913</td>\n",
       "      <td>-122.271200</td>\n",
       "      <td>1980 Allston Way</td>\n",
       "      <td>Berkeley</td>\n",
       "      <td>CA</td>\n",
       "      <td>94704-1463</td>\n",
       "      <td>place</td>\n",
       "      <td>n</td>\n",
       "      <td>NaN</td>\n",
       "      <td>NaN</td>\n",
       "    </tr>\n",
       "    <tr>\n",
       "      <th>3</th>\n",
       "      <td>School</td>\n",
       "      <td>00742</td>\n",
       "      <td>Alameda</td>\n",
       "      <td>Castro Valley Unified</td>\n",
       "      <td>Castro Valley High</td>\n",
       "      <td>37.705184</td>\n",
       "      <td>-122.078478</td>\n",
       "      <td>19400 Santa Maria Ave.</td>\n",
       "      <td>Castro Valley</td>\n",
       "      <td>CA</td>\n",
       "      <td>94546-3400</td>\n",
       "      <td>place</td>\n",
       "      <td>n</td>\n",
       "      <td>NaN</td>\n",
       "      <td>NaN</td>\n",
       "    </tr>\n",
       "    <tr>\n",
       "      <th>4</th>\n",
       "      <td>School</td>\n",
       "      <td>09273</td>\n",
       "      <td>Alameda</td>\n",
       "      <td>Dublin Unified</td>\n",
       "      <td>Dublin High</td>\n",
       "      <td>37.720996</td>\n",
       "      <td>-121.926391</td>\n",
       "      <td>8151 Village Pkwy.</td>\n",
       "      <td>Dublin</td>\n",
       "      <td>CA</td>\n",
       "      <td>94568-1656</td>\n",
       "      <td>place</td>\n",
       "      <td>n</td>\n",
       "      <td>NaN</td>\n",
       "      <td>NaN</td>\n",
       "    </tr>\n",
       "  </tbody>\n",
       "</table>\n",
       "</div>"
      ],
      "text/plain": [
       "  Record Type Federal School ID   County               District  \\\n",
       "0      School             00041  Alameda        Alameda Unified   \n",
       "1      School             00059  Alameda    Albany City Unified   \n",
       "2      School             00432  Alameda       Berkeley Unified   \n",
       "3      School             00742  Alameda  Castro Valley Unified   \n",
       "4      School             09273  Alameda         Dublin Unified   \n",
       "\n",
       "               School   Latitude   Longitude          Street Address  \\\n",
       "0        Alameda High  37.764958 -122.245935       2200 Central Ave.   \n",
       "1         Albany High  37.896661 -122.292572     603 Key Route Blvd.   \n",
       "2       Berkeley High  37.868913 -122.271200        1980 Allston Way   \n",
       "3  Castro Valley High  37.705184 -122.078478  19400 Santa Maria Ave.   \n",
       "4         Dublin High  37.720996 -121.926391      8151 Village Pkwy.   \n",
       "\n",
       "     Street City Street State  Street Zip Name Classification Spanish?  \\\n",
       "0        Alameda           CA  94501-4406               place        n   \n",
       "1         Albany           CA  94706-1422               place        n   \n",
       "2       Berkeley           CA  94704-1463               place        n   \n",
       "3  Castro Valley           CA  94546-3400               place        n   \n",
       "4         Dublin           CA  94568-1656               place        n   \n",
       "\n",
       "  Person Occupation notes  \n",
       "0               NaN   NaN  \n",
       "1               NaN   NaN  \n",
       "2               NaN   NaN  \n",
       "3               NaN   NaN  \n",
       "4               NaN   NaN  "
      ]
     },
     "execution_count": 3,
     "metadata": {},
     "output_type": "execute_result"
    }
   ],
   "source": [
    "schools.head()"
   ]
  },
  {
   "cell_type": "code",
   "execution_count": 4,
   "id": "19c7e570-afb1-41f4-82fe-b8673042154a",
   "metadata": {},
   "outputs": [
    {
     "data": {
      "text/plain": [
       "(881, 15)"
      ]
     },
     "execution_count": 4,
     "metadata": {},
     "output_type": "execute_result"
    }
   ],
   "source": [
    "# there are 881 public high schools (excluding charter and magnet schools)\n",
    "schools.shape"
   ]
  },
  {
   "cell_type": "code",
   "execution_count": 5,
   "id": "f390ac30-316a-4f95-bdb9-6f7e8614eab0",
   "metadata": {},
   "outputs": [
    {
     "data": {
      "text/plain": [
       "Record Type             object\n",
       "Federal School ID       object\n",
       "County                  object\n",
       "District                object\n",
       "School                  object\n",
       "Latitude               float64\n",
       "Longitude              float64\n",
       "Street Address          object\n",
       "Street City             object\n",
       "Street State            object\n",
       "Street Zip              object\n",
       "Name Classification     object\n",
       "Spanish?                object\n",
       "Person Occupation       object\n",
       "notes                   object\n",
       "dtype: object"
      ]
     },
     "execution_count": 5,
     "metadata": {},
     "output_type": "execute_result"
    }
   ],
   "source": [
    "schools.dtypes"
   ]
  },
  {
   "cell_type": "markdown",
   "id": "f5aa6c08-1d91-4038-ba08-aab9706f8180",
   "metadata": {},
   "source": [
    "## How many schools are named after a place, a person or other?"
   ]
  },
  {
   "cell_type": "code",
   "execution_count": 6,
   "id": "5818fe12-e431-4d4f-883d-1eb5a10c97e9",
   "metadata": {},
   "outputs": [
    {
     "data": {
      "text/plain": [
       "Name Classification\n",
       "place     519\n",
       "other     208\n",
       "person    154\n",
       "Name: count, dtype: int64"
      ]
     },
     "execution_count": 6,
     "metadata": {},
     "output_type": "execute_result"
    }
   ],
   "source": [
    "schools['Name Classification'].value_counts()"
   ]
  },
  {
   "cell_type": "code",
   "execution_count": 7,
   "id": "a4d50339-06ed-43f3-97df-72554b7d0bff",
   "metadata": {},
   "outputs": [
    {
     "data": {
      "text/plain": [
       "58.910329171396135"
      ]
     },
     "execution_count": 7,
     "metadata": {},
     "output_type": "execute_result"
    }
   ],
   "source": [
    "place_per = 519/881\n",
    "place_per = place_per * 100\n",
    "place_per"
   ]
  },
  {
   "cell_type": "code",
   "execution_count": 8,
   "id": "78a083df-7cab-4f1a-bb60-62dafad1baa7",
   "metadata": {},
   "outputs": [
    {
     "data": {
      "text/plain": [
       "17.480136208853576"
      ]
     },
     "execution_count": 8,
     "metadata": {},
     "output_type": "execute_result"
    }
   ],
   "source": [
    "person_per = 154/881\n",
    "person_per = person_per * 100\n",
    "person_per "
   ]
  },
  {
   "cell_type": "code",
   "execution_count": 9,
   "id": "e8d090a7-1ef6-4c1c-9474-ae27d2e9415c",
   "metadata": {},
   "outputs": [
    {
     "data": {
      "text/plain": [
       "23.609534619750285"
      ]
     },
     "execution_count": 9,
     "metadata": {},
     "output_type": "execute_result"
    }
   ],
   "source": [
    "other_per = 208/881\n",
    "other_per = other_per * 100\n",
    "other_per"
   ]
  },
  {
   "cell_type": "code",
   "execution_count": 10,
   "id": "b39d53bc-f516-4c00-92f3-80f6549a0b0c",
   "metadata": {},
   "outputs": [
    {
     "name": "stdout",
     "output_type": "stream",
     "text": [
      "58.91 percent of schools are named after a place, 17.48 percent are named after a person and 23.61 percent are named after something else.\n"
     ]
    }
   ],
   "source": [
    "print(f'{round(place_per, 2)} percent of schools are named after a place, {round(person_per, 2)} percent are named after a person and {round(other_per, 2)} percent are named after something else.')"
   ]
  },
  {
   "cell_type": "markdown",
   "id": "27a8a0bc-e52b-4b0c-b9a5-138492262487",
   "metadata": {},
   "source": [
    "## What occupations did the people schools were named after have?"
   ]
  },
  {
   "cell_type": "code",
   "execution_count": 11,
   "id": "50967d9a-4197-4991-b845-e3cd9157bbc3",
   "metadata": {},
   "outputs": [
    {
     "data": {
      "text/plain": [
       "Person Occupation\n",
       "politician           40\n",
       "school leadership    35\n",
       "activist             16\n",
       "landowner            15\n",
       "explorer              9\n",
       "founder               7\n",
       "writer                5\n",
       "service member        5\n",
       "civil servant         4\n",
       "artist                3\n",
       "naturalist            2\n",
       "inventor              2\n",
       "farmer                2\n",
       "community leader      1\n",
       "actor                 1\n",
       "astronaut             1\n",
       "newspaper owner       1\n",
       "industrialist         1\n",
       "civil cervant         1\n",
       "scientist             1\n",
       "Name: count, dtype: int64"
      ]
     },
     "execution_count": 11,
     "metadata": {},
     "output_type": "execute_result"
    }
   ],
   "source": [
    "schools['Person Occupation'].value_counts()"
   ]
  },
  {
   "cell_type": "markdown",
   "id": "1134d384-1154-46bb-82c9-fe541680320e",
   "metadata": {},
   "source": [
    "## How many schools have Spanish names? "
   ]
  },
  {
   "cell_type": "code",
   "execution_count": 12,
   "id": "e04d1d37-eaae-46ee-b846-825610cfff7f",
   "metadata": {},
   "outputs": [
    {
     "data": {
      "text/plain": [
       "Spanish?\n",
       "n    678\n",
       "y    203\n",
       "Name: count, dtype: int64"
      ]
     },
     "execution_count": 12,
     "metadata": {},
     "output_type": "execute_result"
    }
   ],
   "source": [
    "schools['Spanish?'].value_counts()"
   ]
  },
  {
   "cell_type": "code",
   "execution_count": 13,
   "id": "bcb58a25-1919-4b57-80f6-f893c92b494e",
   "metadata": {},
   "outputs": [
    {
     "data": {
      "text/plain": [
       "23.04199772985244"
      ]
     },
     "execution_count": 13,
     "metadata": {},
     "output_type": "execute_result"
    }
   ],
   "source": [
    "spanish_per = 203/881\n",
    "spanish_per = spanish_per * 100\n",
    "spanish_per"
   ]
  },
  {
   "cell_type": "code",
   "execution_count": 14,
   "id": "c59b0045-60a2-4889-ba19-2308a2bf4be7",
   "metadata": {},
   "outputs": [
    {
     "name": "stdout",
     "output_type": "stream",
     "text": [
      "23.04 percent of schools have Spanish names.\n"
     ]
    }
   ],
   "source": [
    "print(f'{round(spanish_per, 2)} percent of schools have Spanish names.')"
   ]
  },
  {
   "cell_type": "markdown",
   "id": "2cb46e18-b8ec-41a6-8376-b4a0cba91c65",
   "metadata": {},
   "source": [
    "## Is there a most common school name?"
   ]
  },
  {
   "cell_type": "code",
   "execution_count": 15,
   "id": "8cb45280-25fb-41df-b982-b962dbcc42e5",
   "metadata": {},
   "outputs": [
    {
     "data": {
      "text/plain": [
       "School\n",
       "John F. Kennedy High    4\n",
       "Foothill High           4\n",
       "Liberty High            4\n",
       "Centennial High         3\n",
       "Golden Valley High      3\n",
       "                       ..\n",
       "Winters High            1\n",
       "Woodland Senior High    1\n",
       "Lindhurst High          1\n",
       "Marysville High         1\n",
       "Castro Valley High      1\n",
       "Name: count, Length: 837, dtype: int64"
      ]
     },
     "execution_count": 15,
     "metadata": {},
     "output_type": "execute_result"
    }
   ],
   "source": [
    "schools['School'].value_counts()"
   ]
  },
  {
   "cell_type": "markdown",
   "id": "6027cea3-a30b-4e2f-a2e5-efb459ddc5a0",
   "metadata": {},
   "source": [
    "## What counties have the most schools with Spanish names?"
   ]
  },
  {
   "cell_type": "code",
   "execution_count": 16,
   "id": "7cbc9487-bb86-4ed1-943a-53e4e3ba70e1",
   "metadata": {},
   "outputs": [
    {
     "data": {
      "text/plain": [
       "<pandas.core.groupby.generic.SeriesGroupBy object at 0x000001D44CD0AF90>"
      ]
     },
     "execution_count": 16,
     "metadata": {},
     "output_type": "execute_result"
    }
   ],
   "source": [
    "schools.groupby('County')['Spanish?']"
   ]
  },
  {
   "cell_type": "code",
   "execution_count": 17,
   "id": "d69c0634-8970-4dab-b23e-2889820ffe97",
   "metadata": {},
   "outputs": [
    {
     "data": {
      "text/plain": [
       "County\n",
       "Los Angeles        165\n",
       "Riverside           52\n",
       "Orange              52\n",
       "San Diego           51\n",
       "San Bernardino      51\n",
       "Sacramento          36\n",
       "Santa Clara         34\n",
       "Kern                33\n",
       "Fresno              29\n",
       "Alameda             26\n",
       "Contra Costa        26\n",
       "Stanislaus          18\n",
       "San Mateo           17\n",
       "Ventura             17\n",
       "Sonoma              14\n",
       "Placer              14\n",
       "Tulare              13\n",
       "Merced              13\n",
       "San Joaquin         13\n",
       "Santa Barbara       11\n",
       "Monterey            11\n",
       "San Luis Obispo     10\n",
       "Solano              10\n",
       "San Francisco       10\n",
       "Mendocino            9\n",
       "Butte                8\n",
       "Siskiyou             8\n",
       "Humboldt             8\n",
       "Madera               8\n",
       "Marin                8\n",
       "Tuolumne             7\n",
       "Santa Cruz           7\n",
       "Imperial             7\n",
       "Shasta               7\n",
       "Kings                6\n",
       "El Dorado            6\n",
       "Yolo                 6\n",
       "Glenn                5\n",
       "Inyo                 5\n",
       "Napa                 5\n",
       "Tehama               4\n",
       "Sutter               4\n",
       "Lassen               4\n",
       "Lake                 4\n",
       "Colusa               4\n",
       "Mariposa             3\n",
       "Mono                 3\n",
       "Modoc                3\n",
       "Yuba                 3\n",
       "San Benito           2\n",
       "Amador               2\n",
       "Calaveras            2\n",
       "Sierra               2\n",
       "Nevada               2\n",
       "Trinity              2\n",
       "Del Norte            1\n",
       "dtype: int64"
      ]
     },
     "execution_count": 17,
     "metadata": {},
     "output_type": "execute_result"
    }
   ],
   "source": [
    "total_schools = schools.groupby('County').size()\n",
    "total_schools.sort_values(ascending=False)"
   ]
  },
  {
   "cell_type": "code",
   "execution_count": 18,
   "id": "19e26fc7-c3a8-467b-8f28-003d524edae6",
   "metadata": {},
   "outputs": [
    {
     "data": {
      "text/plain": [
       "County\n",
       "Los Angeles        41\n",
       "Orange             22\n",
       "Riverside          16\n",
       "San Diego          15\n",
       "Sacramento         13\n",
       "Santa Clara        10\n",
       "Contra Costa        9\n",
       "San Bernardino      8\n",
       "San Mateo           6\n",
       "San Luis Obispo     5\n",
       "Ventura             5\n",
       "Monterey            5\n",
       "Santa Barbara       5\n",
       "Merced              4\n",
       "Solano              4\n",
       "Alameda             3\n",
       "Sonoma              3\n",
       "Kern                3\n",
       "Madera              3\n",
       "Butte               2\n",
       "El Dorado           2\n",
       "San Joaquin         2\n",
       "Tulare              2\n",
       "Santa Cruz          2\n",
       "Fresno              2\n",
       "Calaveras           1\n",
       "Del Norte           1\n",
       "Marin               1\n",
       "Placer              1\n",
       "Mariposa            1\n",
       "Imperial            1\n",
       "San Francisco       1\n",
       "Tehama              1\n",
       "Stanislaus          1\n",
       "Tuolumne            1\n",
       "Yolo                1\n",
       "dtype: int64"
      ]
     },
     "execution_count": 18,
     "metadata": {},
     "output_type": "execute_result"
    }
   ],
   "source": [
    "spanish_schools = schools[schools['Spanish?'] == 'y'].groupby('County').size()\n",
    "spanish_schools.sort_values(ascending=False)"
   ]
  },
  {
   "cell_type": "markdown",
   "id": "f818da28-ce81-43a9-94a3-f81b319ed04a",
   "metadata": {},
   "source": [
    "Los Angeles, Orange, Riverside, San Diego and Sacramento counties have the most Spanish-named schools."
   ]
  },
  {
   "cell_type": "markdown",
   "id": "5d760882-3328-49e1-add0-92bf2e885258",
   "metadata": {},
   "source": [
    "## What county has the highest percentage of schools with Spanish names? "
   ]
  },
  {
   "cell_type": "code",
   "execution_count": 19,
   "id": "a3adc200-04ff-4b9e-8bde-b938d75b056e",
   "metadata": {},
   "outputs": [
    {
     "data": {
      "text/plain": [
       "County\n",
       "Del Norte          100.000000\n",
       "Calaveras           50.000000\n",
       "San Luis Obispo     50.000000\n",
       "Santa Barbara       45.454545\n",
       "Monterey            45.454545\n",
       "Orange              42.307692\n",
       "Solano              40.000000\n",
       "Madera              37.500000\n",
       "Sacramento          36.111111\n",
       "San Mateo           35.294118\n",
       "Contra Costa        34.615385\n",
       "Mariposa            33.333333\n",
       "El Dorado           33.333333\n",
       "Merced              30.769231\n",
       "Riverside           30.769231\n",
       "Ventura             29.411765\n",
       "San Diego           29.411765\n",
       "Santa Clara         29.411765\n",
       "Santa Cruz          28.571429\n",
       "Butte               25.000000\n",
       "Tehama              25.000000\n",
       "Los Angeles         24.848485\n",
       "Sonoma              21.428571\n",
       "Yolo                16.666667\n",
       "San Bernardino      15.686275\n",
       "Tulare              15.384615\n",
       "San Joaquin         15.384615\n",
       "Imperial            14.285714\n",
       "Tuolumne            14.285714\n",
       "Marin               12.500000\n",
       "Alameda             11.538462\n",
       "San Francisco       10.000000\n",
       "Kern                 9.090909\n",
       "Placer               7.142857\n",
       "Fresno               6.896552\n",
       "Stanislaus           5.555556\n",
       "Amador                    NaN\n",
       "Colusa                    NaN\n",
       "Glenn                     NaN\n",
       "Humboldt                  NaN\n",
       "Inyo                      NaN\n",
       "Kings                     NaN\n",
       "Lake                      NaN\n",
       "Lassen                    NaN\n",
       "Mendocino                 NaN\n",
       "Modoc                     NaN\n",
       "Mono                      NaN\n",
       "Napa                      NaN\n",
       "Nevada                    NaN\n",
       "San Benito                NaN\n",
       "Shasta                    NaN\n",
       "Sierra                    NaN\n",
       "Siskiyou                  NaN\n",
       "Sutter                    NaN\n",
       "Trinity                   NaN\n",
       "Yuba                      NaN\n",
       "dtype: float64"
      ]
     },
     "execution_count": 19,
     "metadata": {},
     "output_type": "execute_result"
    }
   ],
   "source": [
    "spanish_per = (spanish_schools / total_schools) * 100\n",
    "spanish_per.sort_values(ascending=False)"
   ]
  },
  {
   "cell_type": "markdown",
   "id": "dc8adee9-a7a7-439f-83f5-d89bc876db2e",
   "metadata": {},
   "source": [
    "Del Norte County only has one school listed and Calaveras only has two. I'm going ingore those in the top percent of counties with Spanish-named schools so the results aren't skewed."
   ]
  },
  {
   "cell_type": "markdown",
   "id": "c548b891-7e48-4b59-b5d2-88a8f8ad662b",
   "metadata": {},
   "source": [
    "Out of counties that have more then five schools, San Luis Obispo, Santa Barbara, Monterey, Orange and Solano had the highest percentages of schools with Spanish names."
   ]
  },
  {
   "cell_type": "markdown",
   "id": "e52f4b95-f17f-4436-96d4-842ba59ebf55",
   "metadata": {},
   "source": [
    "## What county has the most schools named after a person? "
   ]
  },
  {
   "cell_type": "code",
   "execution_count": 20,
   "id": "e62fcc80-9432-4b9e-b200-467d0ee4de1f",
   "metadata": {},
   "outputs": [
    {
     "data": {
      "text/plain": [
       "<pandas.core.groupby.generic.SeriesGroupBy object at 0x000001D44E58BEC0>"
      ]
     },
     "execution_count": 20,
     "metadata": {},
     "output_type": "execute_result"
    }
   ],
   "source": [
    "schools.groupby('County')['Name Classification']"
   ]
  },
  {
   "cell_type": "code",
   "execution_count": 21,
   "id": "d48e34eb-c4bc-4c8d-9b53-b65efe1158c4",
   "metadata": {},
   "outputs": [
    {
     "data": {
      "text/plain": [
       "County\n",
       "Los Angeles       49\n",
       "Santa Clara       12\n",
       "San Francisco      9\n",
       "San Bernardino     7\n",
       "Sacramento         7\n",
       "Stanislaus         7\n",
       "San Diego          7\n",
       "Orange             5\n",
       "Riverside          5\n",
       "Alameda            5\n",
       "Fresno             5\n",
       "Solano             5\n",
       "Sonoma             4\n",
       "Contra Costa       4\n",
       "Kern               3\n",
       "Colusa             2\n",
       "San Mateo          2\n",
       "San Joaquin        2\n",
       "Ventura            2\n",
       "Santa Barbara      2\n",
       "Calaveras          1\n",
       "Glenn              1\n",
       "Monterey           1\n",
       "Merced             1\n",
       "Marin              1\n",
       "Madera             1\n",
       "Lassen             1\n",
       "Inyo               1\n",
       "Placer             1\n",
       "Tuolumne           1\n",
       "dtype: int64"
      ]
     },
     "execution_count": 21,
     "metadata": {},
     "output_type": "execute_result"
    }
   ],
   "source": [
    "person_schools = schools[schools['Name Classification'] == 'person'].groupby('County').size()\n",
    "person_schools.sort_values(ascending=False)"
   ]
  },
  {
   "cell_type": "markdown",
   "id": "d404eca6-b79d-4f1e-a985-606ab8d3fe41",
   "metadata": {},
   "source": [
    "## What county has the highest percentage of schools named after a person?"
   ]
  },
  {
   "cell_type": "code",
   "execution_count": null,
   "id": "c2ba03e7-ba05-460b-9185-bca1b5944de6",
   "metadata": {},
   "outputs": [],
   "source": []
  }
 ],
 "metadata": {
  "kernelspec": {
   "display_name": "Python 3 (ipykernel)",
   "language": "python",
   "name": "python3"
  },
  "language_info": {
   "codemirror_mode": {
    "name": "ipython",
    "version": 3
   },
   "file_extension": ".py",
   "mimetype": "text/x-python",
   "name": "python",
   "nbconvert_exporter": "python",
   "pygments_lexer": "ipython3",
   "version": "3.12.0"
  }
 },
 "nbformat": 4,
 "nbformat_minor": 5
}
